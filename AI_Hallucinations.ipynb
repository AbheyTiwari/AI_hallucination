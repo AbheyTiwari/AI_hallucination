{
  "cells": [
    {
      "cell_type": "markdown",
      "metadata": {
        "id": "view-in-github",
        "colab_type": "text"
      },
      "source": [
        "<a href=\"https://colab.research.google.com/github/AbheyTiwari/AI_hallucination/blob/main/AI_Hallucinations.ipynb\" target=\"_parent\"><img src=\"https://colab.research.google.com/assets/colab-badge.svg\" alt=\"Open In Colab\"/></a>"
      ]
    },
    {
      "cell_type": "code",
      "execution_count": 12,
      "metadata": {
        "colab": {
          "base_uri": "https://localhost:8080/"
        },
        "collapsed": true,
        "id": "kLqUMGAsXYJN",
        "outputId": "4e95f1fe-56bd-4411-daae-e02d945babd4"
      },
      "outputs": [
        {
          "output_type": "stream",
          "name": "stdout",
          "text": [
            "Requirement already satisfied: scikit-learn in /usr/local/lib/python3.11/dist-packages (1.6.1)\n",
            "Requirement already satisfied: pandas in /usr/local/lib/python3.11/dist-packages (2.2.2)\n",
            "Requirement already satisfied: numpy in /usr/local/lib/python3.11/dist-packages (2.0.2)\n",
            "Requirement already satisfied: scipy>=1.6.0 in /usr/local/lib/python3.11/dist-packages (from scikit-learn) (1.14.1)\n",
            "Requirement already satisfied: joblib>=1.2.0 in /usr/local/lib/python3.11/dist-packages (from scikit-learn) (1.4.2)\n",
            "Requirement already satisfied: threadpoolctl>=3.1.0 in /usr/local/lib/python3.11/dist-packages (from scikit-learn) (3.6.0)\n",
            "Requirement already satisfied: python-dateutil>=2.8.2 in /usr/local/lib/python3.11/dist-packages (from pandas) (2.8.2)\n",
            "Requirement already satisfied: pytz>=2020.1 in /usr/local/lib/python3.11/dist-packages (from pandas) (2025.2)\n",
            "Requirement already satisfied: tzdata>=2022.7 in /usr/local/lib/python3.11/dist-packages (from pandas) (2025.2)\n",
            "Requirement already satisfied: six>=1.5 in /usr/local/lib/python3.11/dist-packages (from python-dateutil>=2.8.2->pandas) (1.17.0)\n"
          ]
        }
      ],
      "source": [
        "!pip install scikit-learn pandas numpy"
      ]
    },
    {
      "cell_type": "code",
      "source": [
        "import pandas as pd\n",
        "import numpy as np\n",
        "import statsmodels.api as sm\n",
        "from sklearn.preprocessing import StandardScaler\n",
        "import matplotlib.pyplot as plt\n",
        "from sklearn.metrics import accuracy_score, confusion_matrix, roc_auc_score, roc_curve\n",
        "\n",
        "# Load dataset\n",
        "df = pd.read_csv('hallucination_simulated_data.csv')\n",
        "\n",
        "# ✅ Selected features after checking for multicollinearity\n",
        "features = ['Data_Quality', 'Model_Confidence', 'Input_Ambiguity', 'Interaction_IA', 'Noise']\n",
        "\n",
        "# Target column\n",
        "target = 'Hallucinated'\n",
        "\n",
        "# Scale the features to normalize them (important for logistic regression!)\n",
        "scaler = StandardScaler()\n",
        "X_scaled = scaler.fit_transform(df[features])\n",
        "\n",
        "# Add intercept manually for statsmodels\n",
        "X_const = sm.add_constant(X_scaled)\n",
        "y = df[target]\n",
        "\n",
        "# Fit logistic regression\n",
        "logit_model = sm.Logit(y, X_const)\n",
        "result = logit_model.fit()\n",
        "\n",
        "# Show summary\n",
        "print(result.summary())\n"
      ],
      "metadata": {
        "colab": {
          "base_uri": "https://localhost:8080/"
        },
        "id": "cHFJYpwh7RC9",
        "outputId": "9c455f79-f295-47f7-b4fb-849e4df14d5c"
      },
      "execution_count": 13,
      "outputs": [
        {
          "output_type": "stream",
          "name": "stdout",
          "text": [
            "Optimization terminated successfully.\n",
            "         Current function value: 0.103606\n",
            "         Iterations 11\n",
            "                           Logit Regression Results                           \n",
            "==============================================================================\n",
            "Dep. Variable:           Hallucinated   No. Observations:                  200\n",
            "Model:                          Logit   Df Residuals:                      194\n",
            "Method:                           MLE   Df Model:                            5\n",
            "Date:                Sat, 05 Apr 2025   Pseudo R-squ.:                  0.8505\n",
            "Time:                        18:15:49   Log-Likelihood:                -20.721\n",
            "converged:                       True   LL-Null:                       -138.59\n",
            "Covariance Type:            nonrobust   LLR p-value:                 6.301e-49\n",
            "==============================================================================\n",
            "                 coef    std err          z      P>|z|      [0.025      0.975]\n",
            "------------------------------------------------------------------------------\n",
            "const          2.5742      0.766      3.361      0.001       1.073       4.075\n",
            "x1            -2.8597      0.825     -3.467      0.001      -4.476      -1.243\n",
            "x2            -4.4862      1.219     -3.680      0.000      -6.875      -2.097\n",
            "x3             1.7168      0.621      2.766      0.006       0.500       2.933\n",
            "x4            10.7308      2.705      3.967      0.000       5.429      16.033\n",
            "x5             1.4897      0.547      2.725      0.006       0.418       2.561\n",
            "==============================================================================\n",
            "\n",
            "Possibly complete quasi-separation: A fraction 0.45 of observations can be\n",
            "perfectly predicted. This might indicate that there is complete\n",
            "quasi-separation. In this case some parameters will not be identified.\n"
          ]
        }
      ]
    },
    {
      "cell_type": "code",
      "source": [
        "# Predict probabilities and classify\n",
        "df['predicted_prob'] = result.predict(X_const)\n",
        "df['predicted_class'] = (df['predicted_prob'] >= 0.5).astype(int)\n",
        "\n",
        "# Accuracy\n",
        "accuracy = accuracy_score(y, df['predicted_class'])\n",
        "print(\"Accuracy:\", accuracy)\n",
        "\n",
        "# Confusion Matrix\n",
        "cm = confusion_matrix(y, df['predicted_class'])\n",
        "print(\"Confusion Matrix:\\n\", cm)\n",
        "\n",
        "# ROC-AUC\n",
        "roc_auc = roc_auc_score(y, df['predicted_prob'])\n",
        "print(\"ROC-AUC Score:\", roc_auc)\n",
        "\n",
        "# ROC Curve\n",
        "fpr, tpr, _ = roc_curve(y, df['predicted_prob'])\n",
        "plt.plot(fpr, tpr, label=f\"AUC = {roc_auc:.2f}\")\n",
        "plt.xlabel('False Positive Rate')\n",
        "plt.ylabel('True Positive Rate')\n",
        "plt.title('ROC Curve')\n",
        "plt.legend()\n",
        "plt.grid()\n",
        "plt.show()\n"
      ],
      "metadata": {
        "id": "TcfiTRZa8Y4M",
        "colab": {
          "base_uri": "https://localhost:8080/",
          "height": 559
        },
        "outputId": "87bce0ed-5a6e-4006-9cbe-715276460838"
      },
      "execution_count": 14,
      "outputs": [
        {
          "output_type": "stream",
          "name": "stdout",
          "text": [
            "Accuracy: 0.96\n",
            "Confusion Matrix:\n",
            " [[94  4]\n",
            " [ 4 98]]\n",
            "ROC-AUC Score: 0.9938975590236094\n"
          ]
        },
        {
          "output_type": "display_data",
          "data": {
            "text/plain": [
              "<Figure size 640x480 with 1 Axes>"
            ],
            "image/png": "[encoded data removed]"
          },
          "metadata": {}
        }
      ]
    }
  ],
  "metadata": {
    "colab": {
      "provenance": [],
      "include_colab_link": true
    },
    "kernelspec": {
      "display_name": "Python 3",
      "name": "python3"
    },
    "language_info": {
      "name": "python"
    }
  },
  "nbformat": 4,
  "nbformat_minor": 0
}